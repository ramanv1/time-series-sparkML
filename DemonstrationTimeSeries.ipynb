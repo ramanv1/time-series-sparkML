{
 "cells": [
  {
   "cell_type": "code",
   "execution_count": 1,
   "metadata": {},
   "outputs": [],
   "source": [
    "from pyspark.sql import window\n",
    "from pyspark.sql.functions import col, asc, desc, to_timestamp,\\\n",
    "                                  unix_timestamp, from_unixtime\n",
    "from pyspark.sql.types import StructType, StructField, LongType\n",
    "import pyspark.sql.functions as func\n",
    "from pyspark.sql import SparkSession, SQLContext\n",
    "from pyspark import SparkConf\n",
    "from pyspark.ml.regression import LinearRegression, DecisionTreeRegressor\n",
    "from pyspark.ml.feature import VectorAssembler\n",
    "from pyspark.ml.evaluation import RegressionEvaluator\n",
    "import matplotlib.pyplot as plt\n",
    "import pandas as pd\n",
    "import numpy as np\n",
    "from statsmodels.tsa.arima_model import ARIMA\n"
   ]
  },
  {
   "cell_type": "markdown",
   "metadata": {},
   "source": [
    "### We first import the required modules:\n",
    " 1. our time-series package"
   ]
  },
  {
   "cell_type": "code",
   "execution_count": 2,
   "metadata": {},
   "outputs": [],
   "source": [
    "from forecast import Forecast, Difference, Predict, SavePredictions\n",
    "from TimeSeriesFeatureGenerator import LagGather, TrendGather, MovingAverageSmoothing"
   ]
  },
  {
   "cell_type": "markdown",
   "metadata": {},
   "source": [
    "### Create spark session object"
   ]
  },
  {
   "cell_type": "code",
   "execution_count": 3,
   "metadata": {},
   "outputs": [],
   "source": [
    "conf = SparkConf()\n",
    "spark = SparkSession.builder.appName(\"TimeSeries\").master(\"local\")\\\n",
    "                            .config(conf=conf).getOrCreate()\n",
    "\n"
   ]
  },
  {
   "cell_type": "markdown",
   "metadata": {},
   "source": [
    "### We have already downloaded Microsoft data from Nasdaq.com\n",
    "It must be in the same folder as this file"
   ]
  },
  {
   "cell_type": "markdown",
   "metadata": {},
   "source": [
    "### Reading directly from saved file \"msft.csv\""
   ]
  },
  {
   "cell_type": "code",
   "execution_count": 4,
   "metadata": {},
   "outputs": [],
   "source": [
    "msft_df2 = spark.read.format(\"csv\").option(\"header\",\"true\").option(\"inferSchema\",\"true\").load(\"./msft.csv\")"
   ]
  },
  {
   "cell_type": "code",
   "execution_count": 5,
   "metadata": {},
   "outputs": [
    {
     "name": "stdout",
     "output_type": "stream",
     "text": [
      "+-------------------+-----+\n",
      "|               Date|Close|\n",
      "+-------------------+-----+\n",
      "|1986-03-13 00:00:00| 28.0|\n",
      "|1986-03-14 00:00:00| 29.0|\n",
      "+-------------------+-----+\n",
      "only showing top 2 rows\n",
      "\n"
     ]
    }
   ],
   "source": [
    "msft_df2.select(\"Date\",\"Close\").show(2)"
   ]
  },
  {
   "cell_type": "markdown",
   "metadata": {},
   "source": [
    "### Performing Simulations:\n",
    "SavePredictions(df, timeSeriesCol, regressionType, forecast_days, num_lags, filename, sparksession)\n",
    "1. df           : the main spark dataframe containing the stock price data\n",
    "2. timeSeriesCol: time-series used for forecasting, here closing daily-price, \"Close\" column\n",
    "3. regressionType: Type of machine-learning algorithm (LinearRegression, DecisionTreeRegression, RandomForestRegression, GBTRegression)\n",
    "4. forecast_days: future time-step at which forecast is required (integer)\n",
    "5. num_lags : number of previous time-steps to be used as features (integer)\n",
    "6. filename : filename for saving the results, two output files are created filenametest.csv and filenametrain.csv\n",
    "7. sparksession : current spark session"
   ]
  },
  {
   "cell_type": "markdown",
   "metadata": {},
   "source": [
    "### filename for saving predictions:\n",
    "Two files are generated: 'filename'+'test.csv' and 'filename+'train.csv'. E.g. if filename given is 'msft' then two files with names 'msfttest.csv' and 'msfttrain.csv' are created\n"
   ]
  },
  {
   "cell_type": "code",
   "execution_count": 6,
   "metadata": {},
   "outputs": [],
   "source": [
    "filename = 'LR_MSFT_Predictions'"
   ]
  },
  {
   "cell_type": "code",
   "execution_count": 7,
   "metadata": {},
   "outputs": [
    {
     "name": "stdout",
     "output_type": "stream",
     "text": [
      "Error statistics summary for LR_MSFT_Predictions \n",
      "RMSE for train data:\n",
      "\n",
      "{'forecast_1day': 2.9274160882660345, 'forecast_2day': 2.927397316554124, 'forecast_3day': 2.9286771832890213, 'forecast_4day': 2.9287216766607944, 'forecast_5day': 2.9291301284947693, 'forecast_6day': 2.9288636961985386}\n",
      "RMSE for test data:\n",
      "\n",
      "{'forecast_1day': 0.6513430237517411, 'forecast_2day': 0.6573580611607267, 'forecast_3day': 0.6640604634010516, 'forecast_4day': 0.6697135089988951, 'forecast_5day': 0.6754451137348318, 'forecast_6day': 0.6811314317769687}\n",
      "Two output files created\n",
      "Predictions for train data: LR_MSFT_Predictionstrain.csv\n",
      "Predictions for test data: LR_MSFT_Predictionstest.csv\n"
     ]
    }
   ],
   "source": [
    "RMSE_train, RMSE_test = SavePredictions(msft_df2, \\\n",
    "                                        \"Close\",\\\n",
    "                                        \"LinearRegression\", \\\n",
    "                                         6, 4, filename,\\\n",
    "                                        spark)"
   ]
  },
  {
   "cell_type": "markdown",
   "metadata": {},
   "source": [
    "### Analyzing results"
   ]
  },
  {
   "cell_type": "code",
   "execution_count": 8,
   "metadata": {},
   "outputs": [],
   "source": [
    "fname_train = filename+'train.csv'\n",
    "fname_test = filename+'test.csv'\n",
    "msft_predictions_test = spark.read.format(\"csv\").option(\"header\",\"true\").option(\"inferSchema\",\"true\").load(fname_test)\n",
    "msft_predictions_train = spark.read.format(\"csv\").option(\"header\",\"true\").option(\"inferSchema\",\"true\").load(fname_train)"
   ]
  },
  {
   "cell_type": "code",
   "execution_count": 9,
   "metadata": {
    "scrolled": true
   },
   "outputs": [
    {
     "name": "stdout",
     "output_type": "stream",
     "text": [
      "+-------------------+-----+------------------+-----------+------------------+-----------+\n",
      "|               Date|Close|     forecast_1day|actual_1day|     forecast_3day|actual_3day|\n",
      "+-------------------+-----+------------------+-----------+------------------+-----------+\n",
      "|1986-03-19 00:00:00|28.25| 28.27127463533312|       27.5|28.281177822431456|       26.0|\n",
      "|1986-03-20 00:00:00| 27.5| 27.51464106367872|      26.75| 27.51814189659384|       26.5|\n",
      "|1986-03-21 00:00:00|26.75| 26.76036297242349|       26.0|26.766299072008145|      27.25|\n",
      "|1986-03-24 00:00:00| 26.0| 26.01252569920295|       26.5| 26.02218357274242|      27.75|\n",
      "|1986-03-25 00:00:00| 26.5|26.510747283745907|      27.25|26.492494832359977|       27.5|\n",
      "+-------------------+-----+------------------+-----------+------------------+-----------+\n",
      "only showing top 5 rows\n",
      "\n"
     ]
    }
   ],
   "source": [
    "msft_predictions_train.select(\"Date\",\"Close\",\"forecast_1day\",\"actual_1day\",\"forecast_3day\",\"actual_3day\").show(5)"
   ]
  },
  {
   "cell_type": "code",
   "execution_count": 10,
   "metadata": {},
   "outputs": [
    {
     "name": "stdout",
     "output_type": "stream",
     "text": [
      "+-------------------+-----+------------------+-----------+------------------+-----------+\n",
      "|               Date|Close|     forecast_1day|actual_1day|     forecast_3day|actual_3day|\n",
      "+-------------------+-----+------------------+-----------+------------------+-----------+\n",
      "|2008-08-13 00:00:00|27.91|27.911153878591954|      27.91|27.914011611956315|      27.69|\n",
      "|2008-08-14 00:00:00|27.91|27.912158937684403|      27.81|27.909428267960653|      27.32|\n",
      "|2008-08-15 00:00:00|27.81| 27.81182253120562|      27.69|27.813743015012445|      27.29|\n",
      "|2008-08-18 00:00:00|27.69| 27.69044015404964|      27.32|27.691685824709978|      27.18|\n",
      "|2008-08-19 00:00:00|27.32|27.322487611350713|      27.29| 27.33015185864554|      27.84|\n",
      "+-------------------+-----+------------------+-----------+------------------+-----------+\n",
      "only showing top 5 rows\n",
      "\n"
     ]
    }
   ],
   "source": [
    "msft_predictions_test.select(\"Date\",\"Close\",\"forecast_1day\",\"actual_1day\",\"forecast_3day\",\"actual_3day\").show(5)"
   ]
  },
  {
   "cell_type": "markdown",
   "metadata": {},
   "source": [
    "### Plotting results\n",
    "We convert the data from spark dataframe to pandas dataframe (we can directly read into pandas dataframe as well)"
   ]
  },
  {
   "cell_type": "code",
   "execution_count": 11,
   "metadata": {},
   "outputs": [],
   "source": [
    "msft_3day_test = msft_predictions_test.select(\"Date\",\"forecast_3day\",\"actual_3day\",\"Close\").toPandas()\n",
    "msft_3day_train = msft_predictions_train.select(\"Date\",\"forecast_3day\",\"actual_3day\",\"Close\").toPandas()"
   ]
  },
  {
   "cell_type": "code",
   "execution_count": 12,
   "metadata": {},
   "outputs": [
    {
     "data": {
      "text/plain": [
       "(array([724276., 725737., 727198., 728659., 730120., 731581., 733042.,\n",
       "        734503., 735964., 737425.]), <a list of 10 Text xticklabel objects>)"
      ]
     },
     "execution_count": 12,
     "metadata": {},
     "output_type": "execute_result"
    },
    {
     "data": {
      "image/png": "[encoded data removed]",
      "text/plain": [
       "<Figure size 432x288 with 1 Axes>"
      ]
     },
     "metadata": {
      "needs_background": "light"
     },
     "output_type": "display_data"
    }
   ],
   "source": [
    "fig = plt.plot(msft_3day_train['Date'],msft_3day_train['actual_3day'], 'bo',\\\n",
    "               msft_3day_train['Date'], msft_3day_train['forecast_3day'],\\\n",
    "               msft_3day_test['Date'], msft_3day_test['actual_3day'],'ro',\\\n",
    "               msft_3day_test['Date'], msft_3day_test['forecast_3day'],\\\n",
    "               markersize = 2, linewidth =1)\n",
    "plt.xlabel(\"Date\")\n",
    "plt.ylabel(\"Microsoft stock price ($)\")\n",
    "plt.legend(['Actual (train)','Predictions (train)', 'Actual (test)', 'Predictions (test)'])\n",
    "plt.title(\"Linear Regression: 3 day forecast\")\n",
    "plt.xticks(rotation=45)"
   ]
  },
  {
   "cell_type": "code",
   "execution_count": null,
   "metadata": {},
   "outputs": [],
   "source": []
  }
 ],
 "metadata": {
  "kernelspec": {
   "display_name": "Python 3",
   "language": "python",
   "name": "python3"
  },
  "language_info": {
   "codemirror_mode": {
    "name": "ipython",
    "version": 3
   },
   "file_extension": ".py",
   "mimetype": "text/x-python",
   "name": "python",
   "nbconvert_exporter": "python",
   "pygments_lexer": "ipython3",
   "version": "3.7.0"
  }
 },
 "nbformat": 4,
 "nbformat_minor": 2
}
